{
 "cells": [
  {
   "cell_type": "code",
   "execution_count": 52,
   "metadata": {},
   "outputs": [],
   "source": [
    "import pandas as pd\n",
    "import matplotlib.pyplot as plt\n",
    "import numpy as np\n",
    "import seaborn as sns\n",
    "from mpl_toolkits.mplot3d import Axes3D\n",
    "import plotly.graph_objs as go\\\n",
    "\n",
    "import seaborn as seabornInstance \n",
    "from sklearn.model_selection import train_test_split \n",
    "from sklearn.ensemble import RandomForestRegressor \n",
    "from sklearn import metrics\n",
    "import pickle"
   ]
  },
  {
   "cell_type": "code",
   "execution_count": 53,
   "metadata": {},
   "outputs": [],
   "source": [
    "def university_evaluation(gre, toefl, uni_rate, sop_rate, lor_rate, cgpa, research):    \n",
    "    \n",
    "    Pkl_Filename = \"Pickle_RL_Model.pkl\"  \n",
    "    with open(Pkl_Filename, 'rb') as file:  \n",
    "        rf = pickle.load(file)\n",
    "\n",
    "\n",
    "    my_chance1=[gre, toefl, uni_rate, sop_rate, lor_rate, cgpa, research]\n",
    "    creds=np.array(my_chance1)\n",
    "    my_chance=creds.reshape(-1, 7)\n",
    "    My_prediced_chance = rf.predict(my_chance)\n",
    "    #print(My_prediced_chance)\n",
    "\n",
    "    low_margin = 0.14\n",
    "    high_margin = 0.10\n",
    "    score = abs(uni_rate - 3)\n",
    "\n",
    "    if uni_rate > 3:\n",
    "        if (gre > 325) or (cgpa > 9):\n",
    "            My_prediced_chance = My_prediced_chance\n",
    "        else:\n",
    "            My_prediced_chance -= score*high_margin\n",
    "\n",
    "    else :\n",
    "        My_prediced_chance +=score*low_margin\n",
    "        if My_prediced_chance > 0.95:\n",
    "            My_prediced_chance -= 3*score\n",
    "\n",
    "    final_rating = int(My_prediced_chance)\n",
    "    #print(My_prediced_chance)\n",
    "    rate_int = float(My_prediced_chance[0]*100)\n",
    "    \n",
    "    return rate_int\n"
   ]
  },
  {
   "cell_type": "code",
   "execution_count": 21,
   "metadata": {},
   "outputs": [],
   "source": [
    "#With a Gre score of 315, TOEFL score of 105, University Rating of 4, SOP of score 4, 4 LORs, CGPA of 9.5 and having research papers, What are the chances of me getting into my dream University?  "
   ]
  },
  {
   "cell_type": "code",
   "execution_count": 51,
   "metadata": {},
   "outputs": [
    {
     "data": {
      "text/plain": [
       "74.6"
      ]
     },
     "execution_count": 51,
     "metadata": {},
     "output_type": "execute_result"
    }
   ],
   "source": [
    "university_evaluation(315, 103, 2, 3, 4, 7.8, 1)"
   ]
  },
  {
   "cell_type": "code",
   "execution_count": null,
   "metadata": {},
   "outputs": [],
   "source": []
  }
 ],
 "metadata": {
  "kernelspec": {
   "display_name": "Python 3",
   "language": "python",
   "name": "python3"
  },
  "language_info": {
   "codemirror_mode": {
    "name": "ipython",
    "version": 3
   },
   "file_extension": ".py",
   "mimetype": "text/x-python",
   "name": "python",
   "nbconvert_exporter": "python",
   "pygments_lexer": "ipython3",
   "version": "3.7.6"
  }
 },
 "nbformat": 4,
 "nbformat_minor": 4
}
