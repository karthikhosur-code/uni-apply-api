{
 "cells": [
  {
   "cell_type": "code",
   "execution_count": 1,
   "metadata": {},
   "outputs": [],
   "source": [
    "import pandas as pd\n",
    "import matplotlib.pyplot as plt\n",
    "import numpy as np\n",
    "import seaborn as sns\n",
    "from mpl_toolkits.mplot3d import Axes3D\n",
    "import plotly.graph_objs as go\\\n",
    "\n",
    "import seaborn as seabornInstance \n",
    "from sklearn.model_selection import train_test_split \n",
    "from sklearn.linear_model import LinearRegression\n",
    "from sklearn.linear_model import Ridge\n",
    "from sklearn.linear_model import Lasso\n",
    "from sklearn.linear_model import ElasticNet\n",
    "from sklearn.neighbors import KNeighborsRegressor\n",
    "from sklearn.tree import DecisionTreeRegressor\n",
    "from sklearn.svm import SVR\n",
    "from sklearn.ensemble import RandomForestRegressor \n",
    "from sklearn import metrics\n",
    "%matplotlib inline\n"
   ]
  },
  {
   "cell_type": "code",
   "execution_count": 2,
   "metadata": {},
   "outputs": [],
   "source": [
    "df1 = pd.read_csv('Admission_Predict.csv')\n",
    "df2 = pd.read_csv('Admission_Predict_Ver1.1.csv')"
   ]
  },
  {
   "cell_type": "code",
   "execution_count": 3,
   "metadata": {},
   "outputs": [],
   "source": [
    "frames = [df1, df2]\n",
    "\n",
    "df = pd.concat(frames)\n",
    "df=df.drop(['Serial No.'], axis = 1)\n"
   ]
  },
  {
   "cell_type": "code",
   "execution_count": 54,
   "metadata": {},
   "outputs": [
    {
     "name": "stdout",
     "output_type": "stream",
     "text": [
      "Root Mean Squared Error for lasso: 0.12744426248017154\n",
      "Root Mean Squared Error for ElasticNet: 0.10031946396412199\n"
     ]
    }
   ],
   "source": [
    "X = df.drop(['Chance of Admit '], axis=1).values\n",
    "y = df['Chance of Admit '].values\n",
    "X_train, X_test, y_train, y_test = train_test_split(X, y, test_size=0.2, random_state=0)\n",
    "model_ = []\n",
    "lasso = Lasso()  \n",
    "lasso.fit(X_train, y_train)\n",
    "y_pred = lasso.predict(X_test)\n",
    "print('Root Mean Squared Error for lasso:', np.sqrt(metrics.mean_squared_error(y_test, y_pred)))\n",
    "model_.append(['Lasso', np.sqrt(metrics.mean_squared_error(y_test, y_pred))])\n",
    "en = ElasticNet()  \n",
    "en.fit(X_train, y_train)\n",
    "y_pred = en.predict(X_test)\n",
    "print('Root Mean Squared Error for ElasticNet:', np.sqrt(metrics.mean_squared_error(y_test, y_pred)))\n",
    "model_.append(['ElasticNet', np.sqrt(metrics.mean_squared_error(y_test, y_pred))])\\\n"
   ]
  },
  {
   "cell_type": "code",
   "execution_count": 59,
   "metadata": {},
   "outputs": [
    {
     "name": "stdout",
     "output_type": "stream",
     "text": [
      "Root Mean Squared Error for svm: 0.0828832070793794\n",
      "Root Mean Squared Error for RandomForest: 0.03929464622849053\n"
     ]
    }
   ],
   "source": [
    "svm = SVR()  \n",
    "svm.fit(X_train, y_train)\n",
    "y_pred = svm.predict(X_test)\n",
    "print('Root Mean Squared Error for svm:', np.sqrt(metrics.mean_squared_error(y_test, y_pred)))\n",
    "model_.append(['svm', np.sqrt(metrics.mean_squared_error(y_test, y_pred))])\n",
    "rf = RandomForestRegressor(n_estimators = 100, random_state = 0)   \n",
    "rf.fit(X_train, y_train)\n",
    "y_pred = rf.predict(X_test)\n",
    "print('Root Mean Squared Error for RandomForest:', np.sqrt(metrics.mean_squared_error(y_test, y_pred)))\n",
    "model_.append(['RandomForest', np.sqrt(metrics.mean_squared_error(y_test, y_pred))])"
   ]
  },
  {
   "cell_type": "markdown",
   "metadata": {},
   "source": []
  },
  {
   "cell_type": "code",
   "execution_count": 119,
   "metadata": {},
   "outputs": [
    {
     "name": "stdout",
     "output_type": "stream",
     "text": [
      "Root Mean Squared Error for RandomForest: 0.03929464622849053\n",
      "[0.5972]\n",
      "[0.4972]\n"
     ]
    }
   ],
   "source": [
    "import pickle\n",
    "from sklearn.externals import joblib\n",
    "\n",
    "rf = RandomForestRegressor(n_estimators = 100, random_state = 0)   \n",
    "rf.fit(X_train, y_train)\n",
    "y_pred = rf.predict(X_test)\n",
    "print('Root Mean Squared Error for RandomForest:', np.sqrt(metrics.mean_squared_error(y_test, y_pred)))\n",
    "model = 'RandomForest', np.sqrt(metrics.mean_squared_error(y_test, y_pred))\n",
    "Pkl_Filename = \"Pickle_RL_Model.pkl\"  \n",
    "\n",
    "\n",
    "with open(Pkl_Filename, 'wb') as file:  \n",
    "    pickle.dump(rf, file)\n",
    "    \n",
    "my_chance1=[340, 120, 4, 3, 4, 7.8, 1]\n",
    "creds=np.array(my_chance1)\n",
    "my_chance=creds.reshape(-1, 7)\n",
    "My_prediced_chance = rf.predict(my_chance)\n",
    "print(My_prediced_chance)\n",
    "\n",
    "low_margin = 0.14\n",
    "high_margin = 0.10\n",
    "ranking = 4\n",
    "gre = float(320)\n",
    "gpa = float(7.2)\n",
    "score = abs(ranking - 3)\n",
    "\n",
    "if ranking > 3:\n",
    "    if (gre > 325) or (gpa > 9):\n",
    "        My_prediced_chance = My_prediced_chance\n",
    "    else:\n",
    "        My_prediced_chance -= score*high_margin\n",
    "    \n",
    "else :\n",
    "    My_prediced_chance +=score*low_margin\n",
    "    if My_prediced_chance > 0.95:\n",
    "        My_prediced_chance -= 3*score\n",
    "\n",
    "My_prediced_chance\n",
    "final_rating = int(My_prediced_chance)\n",
    "print(My_prediced_chance)"
   ]
  },
  {
   "cell_type": "code",
   "execution_count": null,
   "metadata": {},
   "outputs": [],
   "source": []
  },
  {
   "cell_type": "code",
   "execution_count": null,
   "metadata": {},
   "outputs": [],
   "source": []
  }
 ],
 "metadata": {
  "kernelspec": {
   "display_name": "Python 3",
   "language": "python",
   "name": "python3"
  },
  "language_info": {
   "codemirror_mode": {
    "name": "ipython",
    "version": 3
   },
   "file_extension": ".py",
   "mimetype": "text/x-python",
   "name": "python",
   "nbconvert_exporter": "python",
   "pygments_lexer": "ipython3",
   "version": "3.7.6"
  }
 },
 "nbformat": 4,
 "nbformat_minor": 4
}
